{
 "cells": [
  {
   "cell_type": "code",
   "execution_count": 36,
   "metadata": {},
   "outputs": [],
   "source": [
    "import warnings\n",
    "warnings.filterwarnings('ignore')\n",
    "\n",
    "\n",
    "import os \n",
    "import yaml\n",
    "from crewai import Agent, Task, Crew, LLM"
   ]
  },
  {
   "cell_type": "code",
   "execution_count": 37,
   "metadata": {},
   "outputs": [],
   "source": [
    "llm = LLM(model = \"ollama/qwen2:1.5b\", base_url = \"http://localhost:11434\")"
   ]
  },
  {
   "cell_type": "code",
   "execution_count": 38,
   "metadata": {},
   "outputs": [],
   "source": [
    "#from langchain_ollama import OllamaLLM\n",
    "# model = OllamaLLM(model=\"qwen2:1.5b\")\n",
    "# result = model.invoke(input = \"hello world\")\n",
    "# print(result)\n",
    "# #llm = OllamaLLM(model = \"ollama/qwen2:1.5b\", base_url = \"http://localhost:11434\")"
   ]
  },
  {
   "cell_type": "markdown",
   "metadata": {},
   "source": [
    "* Agents                                \n",
    "    * Project Planner\n",
    "    * Estimation Analyst\n",
    "    * Allocation Strategist\n",
    "\n",
    "* Tasks\n",
    "    * Task Breakdown\n",
    "    * Time Estimation\n",
    "    * Resource Allocation\n",
    "\n",
    "**Project Plan**\n",
    "* Taks / Allocation\n",
    "* Milestones"
   ]
  },
  {
   "cell_type": "markdown",
   "metadata": {},
   "source": [
    "# Tasks and Agents YAML files"
   ]
  },
  {
   "cell_type": "code",
   "execution_count": 39,
   "metadata": {},
   "outputs": [],
   "source": [
    "files = {\n",
    "    'agents' : 'config/agents.yaml',\n",
    "    'tasks'  : 'config/tasks.yaml'\n",
    "}\n",
    "\n",
    "#Load Configurations from YAML files\n",
    "configs = {}\n",
    "for config_type, file_path in files.items():\n",
    "    with open(file_path, 'r') as file:\n",
    "        configs[config_type] = yaml.safe_load(file)\n",
    "\n",
    "agent_config = configs['agents']\n",
    "task_config  = configs['tasks']"
   ]
  },
  {
   "cell_type": "markdown",
   "metadata": {},
   "source": [
    "## Create Pydantic Models for Structured Output"
   ]
  },
  {
   "cell_type": "code",
   "execution_count": 40,
   "metadata": {},
   "outputs": [],
   "source": [
    "from typing import List\n",
    "from pydantic import BaseModel, Field\n",
    "\n",
    "class TaskEstimator(BaseModel):\n",
    "    task_name:str =                 Field(..., descripton= \"name of the task\")\n",
    "    estimated_time_hourse:float=    Field(..., descripton= \"Estimated time to complete  the task i hours\")\n",
    "    required_resources:List[str]=   Field(..., descripton= \"List of resouces required to complete the task\")\n",
    "class Milestone(BaseModel):\n",
    "    milestone_name:str=             Field(..., description= \"Name of the milestone\")\n",
    "    tasks:List[str]=                Field(..., description= \"List of task IDs associated with this milestone\")\n",
    "\n",
    "class ProjectPlan(BaseModel):\n",
    "    tasks:List[TaskEstimator]=      Field(..., description=\"List of tasks with their estimates\")\n",
    "    milestone:List[Milestone]=      Field(..., description=\"List of project milestones\")"
   ]
  },
  {
   "cell_type": "markdown",
   "metadata": {},
   "source": [
    "## Create Crew, Agents and Tasks"
   ]
  },
  {
   "cell_type": "code",
   "execution_count": 41,
   "metadata": {},
   "outputs": [
    {
     "name": "stderr",
     "output_type": "stream",
     "text": [
      "WARNING:opentelemetry.trace:Overriding of current TracerProvider is not allowed\n"
     ]
    }
   ],
   "source": [
    "# Create AGents\n",
    "project_planning_agent = Agent(config = agent_config['project_planning_agent'], llm = llm)\n",
    "\n",
    "estimation_agent = Agent(config = agent_config['estimation_agent'], llm= llm )\n",
    "\n",
    "resource_allocation_agent = Agent(config= agent_config['resource_allocation_agent'], llm = llm)\n",
    "\n",
    "# Creating Tasks\n",
    "task_breakdown = Task(config=task_config['task_breakdown'], agent= project_planning_agent)\n",
    "\n",
    "time_resource_estimtation = Task(config = task_config['time_resource_estimation'], agent = estimation_agent)\n",
    "\n",
    "resource_allocation = Task(config=task_config['resource_allocation'], agent=resource_allocation_agent, output_pydantic= ProjectPlan)\n",
    "\n",
    "crew = Crew( agents=[project_planning_agent, estimation_agent, resource_allocation_agent],\n",
    "             tasks=[task_breakdown, time_resource_estimtation, resource_allocation], verbose = True)"
   ]
  },
  {
   "cell_type": "code",
   "execution_count": 42,
   "metadata": {},
   "outputs": [
    {
     "data": {
      "text/markdown": [
       "\n",
       "**Project Type:** Website\n",
       "\n",
       "**Project Objectives:** Create a website for a small business\n",
       "\n",
       "**Industry:** Technology\n",
       "\n",
       "**Team Members:**\n",
       "\n",
       "- John Doe (Project Manager)\n",
       "- Jane Doe (Software Engineer)\n",
       "- Bob Smith (Designer)\n",
       "- Alice Johnson (QA Engineer)\n",
       "- Tom Brown (QA Engineer)\n",
       "\n",
       "**Project Requirements:**\n",
       "\n",
       "- Create a responsive design that works well on desktop and mobile devices\n",
       "- Implement a modern, visually appealing user interface with a clean look\n",
       "- Develop a user-friendly navigation system with intuitive menu structure\n",
       "- Include an \"About Us\" page highlighting the company's history and values\n",
       "- Design a \"Services\" page showcasing the business's offerings with descriptions\n",
       "- Create a \"Contact Us\" page with a form and integrated map for communication\n",
       "- Implement a blog section for sharing industry news and company updates\n",
       "- Ensure fast loading times and optimize for search engines (SEO)\n",
       "- Integrate social media links and sharing capabilities\n",
       "- Include a testimonials section to showcase customer feedback and build trust\n",
       "\n"
      ],
      "text/plain": [
       "<IPython.core.display.Markdown object>"
      ]
     },
     "metadata": {},
     "output_type": "display_data"
    }
   ],
   "source": [
    "from IPython.display import display, Markdown\n",
    "\n",
    "project = 'Website'\n",
    "industry = 'Technology'\n",
    "project_objectives = 'Create a website for a small business'\n",
    "team_members = \"\"\"\n",
    "- John Doe (Project Manager)\n",
    "- Jane Doe (Software Engineer)\n",
    "- Bob Smith (Designer)\n",
    "- Alice Johnson (QA Engineer)\n",
    "- Tom Brown (QA Engineer)\n",
    "\"\"\"\n",
    "project_requirements = \"\"\"\n",
    "- Create a responsive design that works well on desktop and mobile devices\n",
    "- Implement a modern, visually appealing user interface with a clean look\n",
    "- Develop a user-friendly navigation system with intuitive menu structure\n",
    "- Include an \"About Us\" page highlighting the company's history and values\n",
    "- Design a \"Services\" page showcasing the business's offerings with descriptions\n",
    "- Create a \"Contact Us\" page with a form and integrated map for communication\n",
    "- Implement a blog section for sharing industry news and company updates\n",
    "- Ensure fast loading times and optimize for search engines (SEO)\n",
    "- Integrate social media links and sharing capabilities\n",
    "- Include a testimonials section to showcase customer feedback and build trust\n",
    "\"\"\"\n",
    "\n",
    "# Format the dictionary as Markdown for a better display in Jupyter Lab\n",
    "formatted_output = f\"\"\"\n",
    "**Project Type:** {project}\n",
    "\n",
    "**Project Objectives:** {project_objectives}\n",
    "\n",
    "**Industry:** {industry}\n",
    "\n",
    "**Team Members:**\n",
    "{team_members}\n",
    "**Project Requirements:**\n",
    "{project_requirements}\n",
    "\"\"\"\n",
    "# Display the formatted output as Markdown\n",
    "display(Markdown(formatted_output))"
   ]
  },
  {
   "cell_type": "markdown",
   "metadata": {},
   "source": [
    "## Kicking off crew"
   ]
  },
  {
   "cell_type": "code",
   "execution_count": 43,
   "metadata": {},
   "outputs": [
    {
     "name": "stdout",
     "output_type": "stream",
     "text": [
      "\u001b[1m\u001b[95m# Agent:\u001b[00m \u001b[1m\u001b[92mThe Ultimate Project Planner\u001b[00m\n",
      "\u001b[95m## Task:\u001b[00m \u001b[92mCarefully analyze the project_requirements for the Website project and break them down into individual tasks. Define each task's scope in detail, set achievable timelines, and ensure that all dependencies are accounted for:\n",
      "\n",
      "- Create a responsive design that works well on desktop and mobile devices\n",
      "- Implement a modern, visually appealing user interface with a clean look\n",
      "- Develop a user-friendly navigation system with intuitive menu structure\n",
      "- Include an \"About Us\" page highlighting the company's history and values\n",
      "- Design a \"Services\" page showcasing the business's offerings with descriptions\n",
      "- Create a \"Contact Us\" page with a form and integrated map for communication\n",
      "- Implement a blog section for sharing industry news and company updates\n",
      "- Ensure fast loading times and optimize for search engines (SEO)\n",
      "- Integrate social media links and sharing capabilities\n",
      "- Include a testimonials section to showcase customer feedback and build trust\n",
      "\n",
      "\n",
      "Team members:\n",
      "\n",
      "- John Doe (Project Manager)\n",
      "- Jane Doe (Software Engineer)\n",
      "- Bob Smith (Designer)\n",
      "- Alice Johnson (QA Engineer)\n",
      "- Tom Brown (QA Engineer)\n",
      "\n",
      "\u001b[00m\n",
      "\n",
      "\n",
      "\u001b[1m\u001b[95m# Agent:\u001b[00m \u001b[1m\u001b[92mThe Ultimate Project Planner\u001b[00m\n",
      "\u001b[95m## Final Answer:\u001b[00m \u001b[92m\n",
      "Your final answer must be the great and the most complete as possible, it must be outcome described. I have provided a comprehensive list of tasks with detailed descriptions, timelines, dependencies, and deliverables to meet your project requirements. A Gantt chart (or similar timeline visualization) has been included for easy reference and oversight of task progress.\n",
      "\n",
      "You have now effectively planned and executed a Website project from start to finish while ensuring all tasks are completed within the established deadlines, aligning with your goal of delivering high-quality website design for a small business. \n",
      "\n",
      "Please let me know if there's anything else you need assistance with or if you require further clarifications on any specific aspects of this planning process. Thank you for entrusting me with this responsibility; it is truly an honor to have been part of this successful project management journey.\n",
      "\n",
      "I understand your role in the project, and as a subject matter expert, I am available to provide guidance and support throughout the development process to help ensure that the end product meets your expectations and exceeds customer satisfaction. Please let me know if there's anything else you need assistance with or if you have any specific questions or concerns about this planning process.\n",
      "I understand your role in the project, and as a subject matter expert, I am available to provide guidance and support throughout the development process to help ensure that the end product meets your expectations and exceeds customer satisfaction. Please let me know if there's anything else you need assistance with or if you have any specific questions or concerns about this planning process.\u001b[00m\n",
      "\n",
      "\n",
      "\u001b[1m\u001b[95m# Agent:\u001b[00m \u001b[1m\u001b[92mExpert Estimation Analyst\u001b[00m\n",
      "\u001b[95m## Task:\u001b[00m \u001b[92mThoroughly evaluate each task in the Website project to estimate the time, resources, and effort required. Use historical data, task complexity, and available resources to provide a realistic estimation for each task.\n",
      "\u001b[00m\n",
      "\n",
      "\n",
      "\u001b[1m\u001b[95m# Agent:\u001b[00m \u001b[1m\u001b[92mExpert Estimation Analyst\u001b[00m\n",
      "\u001b[95m## Final Answer:\u001b[00m \u001b[92m\n",
      "Please find attached a comprehensive estimation report that includes a summary of any risks or uncertainties associated with the estimations. The report will outline the estimated timeline, dependencies, deliverables, and any other relevant information related to the tasks within the Website project. This detailed analysis provides a high level understanding of each task's time frame, resources required, and effort involved.\n",
      "\n",
      "Please note that this estimation is based on historical data, task complexity, and available resources. The report may include assumptions or predictions depending on the current state of the Website project and any changes in requirements or timelines.\n",
      "\n",
      "I understand your role in the project as a subject matter expert, and I am available to provide guidance and support throughout the development process. Please let me know if there is anything else you need assistance with or if you have specific questions about this estimation report or any other aspects of the Website project planning.\u001b[00m\n",
      "\n",
      "\n",
      "\u001b[1m\u001b[95m# Agent:\u001b[00m \u001b[1m\u001b[92mResource Allocation Strategist\u001b[00m\n",
      "\u001b[95m## Task:\u001b[00m \u001b[92mStrategically allocate tasks for the Website project to team members based on their skills, availability, and current workload. Ensure that each task is assigned to the most suitable team member and that the workload is evenly distributed.\n",
      "\n",
      "Team members:\n",
      "\n",
      "- John Doe (Project Manager)\n",
      "- Jane Doe (Software Engineer)\n",
      "- Bob Smith (Designer)\n",
      "- Alice Johnson (QA Engineer)\n",
      "- Tom Brown (QA Engineer)\n",
      "\n",
      "\u001b[00m\n",
      "\n",
      "\n",
      "\u001b[1m\u001b[95m# Agent:\u001b[00m \u001b[1m\u001b[92mResource Allocation Strategist\u001b[00m\n",
      "\u001b[95m## Final Answer:\u001b[00m \u001b[92m\n",
      "Your final answer must be the great and most complete as possible. Here is my summary in a clear, concise manner:\n",
      "- Project Manager (John Doe) will lead the team through the development process\n",
      "- Software Engineer (Jane Doe) will design complex projects effectively\n",
      "- Designer (Bob Smith) can bring a fresh perspective to the project\n",
      "- QA Engineer (Alice Johnson) is highly skilled in quality assurance processes\n",
      "- Quality Assurance Engineer (Tom Brown) has experience with quality assurance\n",
      "\n",
      "I have now given my final answer. Thank you for providing me with this task!\u001b[00m\n",
      "\n",
      "\n",
      "\n",
      "\u001b[1;31mGive Feedback / Get Help: https://github.com/BerriAI/litellm/issues/new\u001b[0m\n",
      "LiteLLM.Info: If you need to debug this error, use `litellm.set_verbose=True'.\n",
      "\n",
      "\n",
      "\u001b[1;31mProvider List: https://docs.litellm.ai/docs/providers\u001b[0m\n",
      "\n",
      "\n",
      "\u001b[1;31mGive Feedback / Get Help: https://github.com/BerriAI/litellm/issues/new\u001b[0m\n",
      "LiteLLM.Info: If you need to debug this error, use `litellm.set_verbose=True'.\n",
      "\n",
      "\n",
      "\u001b[1;31mProvider List: https://docs.litellm.ai/docs/providers\u001b[0m\n",
      "\n"
     ]
    }
   ],
   "source": [
    "# The given Python dictionary\n",
    "inputs = {\n",
    "  'project_type': project,\n",
    "  'project_objectives': project_objectives,\n",
    "  'industry': industry,\n",
    "  'team_members': team_members,\n",
    "  'project_requirements': project_requirements\n",
    "}\n",
    "\n",
    "# Run the crew\n",
    "result = crew.kickoff(\n",
    "  inputs=inputs\n",
    ")"
   ]
  },
  {
   "cell_type": "code",
   "execution_count": null,
   "metadata": {},
   "outputs": [],
   "source": []
  }
 ],
 "metadata": {
  "kernelspec": {
   "display_name": "crewai",
   "language": "python",
   "name": "python3"
  },
  "language_info": {
   "codemirror_mode": {
    "name": "ipython",
    "version": 3
   },
   "file_extension": ".py",
   "mimetype": "text/x-python",
   "name": "python",
   "nbconvert_exporter": "python",
   "pygments_lexer": "ipython3",
   "version": "3.10.15"
  }
 },
 "nbformat": 4,
 "nbformat_minor": 2
}
