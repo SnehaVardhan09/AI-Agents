{
 "cells": [
  {
   "cell_type": "code",
   "execution_count": 5,
   "metadata": {},
   "outputs": [],
   "source": [
    "import warnings\n",
    "warnings.filterwarnings('ignore')\n",
    "\n",
    "\n",
    "import os \n",
    "import yaml\n",
    "from crewai import Agent, Task, Crew "
   ]
  },
  {
   "cell_type": "markdown",
   "metadata": {},
   "source": [
    "* Agents                                \n",
    "    * Project Planner\n",
    "    * Estimation Analyst\n",
    "    * Allocation Strategist\n",
    "\n",
    "* Tasks\n",
    "    * Task Breakdown\n",
    "    * Time Estimation\n",
    "    * Resource Allocation\n",
    "\n",
    "**Project Plan**\n",
    "* Taks / Allocation\n",
    "* Milestones"
   ]
  },
  {
   "cell_type": "markdown",
   "metadata": {},
   "source": [
    "# Tasks and Agents YAML files"
   ]
  },
  {
   "cell_type": "code",
   "execution_count": 9,
   "metadata": {},
   "outputs": [],
   "source": [
    "files = {\n",
    "    'agents' : 'config/agents.yaml',\n",
    "    'tasks'  : 'config/tasks.yaml'\n",
    "}\n",
    "\n",
    "#Load Configurations from YAML files\n",
    "configs = {}\n",
    "for config_type, file_path in files.items():\n",
    "    with open(file_path, 'r') as file:\n",
    "        configs[config_type] = yaml.safe_load(file)\n",
    "\n",
    "agent_config = configs['agents']\n",
    "task_config  = configs['tasks']"
   ]
  },
  {
   "cell_type": "code",
   "execution_count": 10,
   "metadata": {},
   "outputs": [
    {
     "data": {
      "text/plain": [
       "{'project_planning_agent': {'role': 'The Ultimate Project Planner\\n',\n",
       "  'goal': 'To meticulously break down the {project_type} project into actionable tasks, ensuring no detail is overlooked, and setting precise timelines that align with the {project_objectives}.\\n',\n",
       "  'backstory': \"As a veteran project manager, you’ve led numerous successful projects, particularly in {industry}. Your keen eye for detail and strategic thinking have always ensured that projects are delivered on time and within scope. Now, you're tasked with planning the next groundbreaking {project_type} project.\\n\",\n",
       "  'allow_delegation': False,\n",
       "  'verbose': True},\n",
       " 'estimation_agent': {'role': 'Expert Estimation Analyst\\n',\n",
       "  'goal': 'Provide highly accurate time, resource, and effort estimations for each task in the {project_type} project to ensure it is delivered efficiently and on budget.\\n',\n",
       "  'backstory': 'You are the go-to expert for project estimation in {industry}. With a wealth of experience and access to vast historical data, you can predict the resources required for any task with remarkable accuracy. Your precision ensures that the {project_type} project remains feasible and avoids unnecessary delays or budget overruns.\\n',\n",
       "  'allow_delegation': False,\n",
       "  'verbose': True},\n",
       " 'resource_allocation_agent': {'role': 'Resource Allocation Strategist\\n',\n",
       "  'goal': \"Optimize the allocation of tasks for the {project_type} project by balancing team members' skills, availability, and current workload to maximize efficiency and project success.\\n\",\n",
       "  'backstory': 'With a deep understanding of team dynamics and resource management in {industry}, you have a track record of ensuring that the right person is always assigned to the right task. Your strategic thinking ensures that the {project_type} project team is utilized to its full potential without overburdening any individual.\\n',\n",
       "  'allow_delegation': False,\n",
       "  'verbose': True}}"
      ]
     },
     "execution_count": 10,
     "metadata": {},
     "output_type": "execute_result"
    }
   ],
   "source": [
    "agent_config"
   ]
  },
  {
   "cell_type": "code",
   "execution_count": 13,
   "metadata": {},
   "outputs": [],
   "source": [
    "from transformers import pipeline"
   ]
  },
  {
   "cell_type": "code",
   "execution_count": null,
   "metadata": {},
   "outputs": [],
   "source": []
  }
 ],
 "metadata": {
  "kernelspec": {
   "display_name": "crewai",
   "language": "python",
   "name": "python3"
  },
  "language_info": {
   "codemirror_mode": {
    "name": "ipython",
    "version": 3
   },
   "file_extension": ".py",
   "mimetype": "text/x-python",
   "name": "python",
   "nbconvert_exporter": "python",
   "pygments_lexer": "ipython3",
   "version": "3.10.15"
  }
 },
 "nbformat": 4,
 "nbformat_minor": 2
}
